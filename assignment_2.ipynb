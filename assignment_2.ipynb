{
  "nbformat": 4,
  "nbformat_minor": 0,
  "metadata": {
    "colab": {
      "provenance": []
    },
    "kernelspec": {
      "name": "python3",
      "display_name": "Python 3"
    },
    "language_info": {
      "name": "python"
    }
  },
  "cells": [
    {
      "cell_type": "code",
      "execution_count": 25,
      "metadata": {
        "colab": {
          "base_uri": "https://localhost:8080/"
        },
        "id": "HK4RD92j3u00",
        "outputId": "641f492d-33ce-4c42-8008-e8a25ae56ad2"
      },
      "outputs": [
        {
          "output_type": "stream",
          "name": "stdout",
          "text": [
            "The sum of the two numbers is: 25\n",
            "The difference of the two numbers is: 15\n",
            "The product of the two numbers is: 100\n",
            "The quotient of the two numbers is: 4.0\n"
          ]
        }
      ],
      "source": [
        "#1.Calculate the sum, difference, product, and quotient of two numbers.\n",
        "\n",
        "a=20\n",
        "b=5\n",
        "\n",
        "# Calculate the sum of the two numbers.\n",
        "sum = a + b\n",
        "\n",
        "# Calculate the difference of the two numbers.\n",
        "difference = a - b\n",
        "\n",
        "# Calculate the product of the two numbers.\n",
        "product = a * b\n",
        "\n",
        "# Calculate the quotient of the two numbers.\n",
        "quotient = a/b\n",
        "\n",
        "# Print the results.\n",
        "print(\"The sum of the two numbers is:\", sum)\n",
        "print(\"The difference of the two numbers is:\", difference)\n",
        "print(\"The product of the two numbers is:\", product)\n",
        "print(\"The quotient of the two numbers is:\", quotient)"
      ]
    },
    {
      "cell_type": "code",
      "source": [
        "#2.Perform various assignment operations on a variable.\n",
        "a = 20\n",
        "\n",
        "# Assign the value of a to b.\n",
        "b = a\n",
        "\n",
        "# Add 5 to the value of a and assign it to c.\n",
        "c = a + 5\n",
        "\n",
        "# Subtract 5 from the value of a and assign it to d.\n",
        "d = a - 5\n",
        "\n",
        "# Multiply the value of a by 5 and assign it to e.\n",
        "e = a * 5\n",
        "\n",
        "# Divide the value of a by 5 and assign it to f.\n",
        "f = a / 5\n",
        "\n",
        "# Print the values of the variables.\n",
        "print(\"a =\", a)\n",
        "print(\"b =\", b)\n",
        "print(\"c =\", c)\n",
        "print(\"d =\", d)\n",
        "print(\"e =\", e)\n",
        "print(\"f =\", f)"
      ],
      "metadata": {
        "colab": {
          "base_uri": "https://localhost:8080/"
        },
        "id": "wd547zS25Zrj",
        "outputId": "205744c0-d529-463f-e8ae-058cecbfd721"
      },
      "execution_count": 6,
      "outputs": [
        {
          "output_type": "stream",
          "name": "stdout",
          "text": [
            "a = 20\n",
            "b = 20\n",
            "c = 25\n",
            "d = 15\n",
            "e = 100\n",
            "f = 4.0\n"
          ]
        }
      ]
    },
    {
      "cell_type": "code",
      "source": [
        "#3.Compare two numbers and print the results.\n",
        "a= 8\n",
        "b= 7\n",
        "if a>b:\n",
        "  print(\"a is greater\")\n",
        "else:\n",
        "  print(\"b is greater\")"
      ],
      "metadata": {
        "colab": {
          "base_uri": "https://localhost:8080/"
        },
        "id": "z2_-e1YM_tTC",
        "outputId": "8078af31-8b73-479c-907a-6f8db78dcd41"
      },
      "execution_count": 24,
      "outputs": [
        {
          "output_type": "stream",
          "name": "stdout",
          "text": [
            "a is greater\n"
          ]
        }
      ]
    },
    {
      "cell_type": "code",
      "source": [
        "#4.Check conditions using logical operators.\n",
        "\n",
        "# Check if both conditions are true.\n",
        "if (a == b) and (c == d):\n",
        "  print(\"Both conditions are true.\")\n",
        "\n",
        "# Check if at least one condition is true.\n",
        "if (a == b) or (c == d):\n",
        "  print(\"At least one condition is true.\")\n",
        "\n",
        "# Check if the first condition is true and the second condition is false.\n",
        "if (a == b) and not(c == d):\n",
        "  print(\"The first condition is true and the second condition is false.\")\n",
        "\n",
        "# Check if the first condition is false and the second condition is true.\n",
        "if not(a == b) and (c == d):\n",
        "  print(\"The first condition is false and the second condition is true.\")\n"
      ],
      "metadata": {
        "colab": {
          "base_uri": "https://localhost:8080/"
        },
        "id": "eWciwMVK9EEh",
        "outputId": "c527f991-3668-4db1-8016-87e53f9443d2"
      },
      "execution_count": 21,
      "outputs": [
        {
          "output_type": "stream",
          "name": "stdout",
          "text": [
            "At least one condition is true.\n",
            "The first condition is true and the second condition is false.\n"
          ]
        }
      ]
    },
    {
      "cell_type": "code",
      "source": [
        "#5.Check the identity of variables.\n",
        "\n",
        "a = 20\n",
        "b = 20\n",
        "c = a\n",
        "\n",
        "# Check if a and b are the same object.\n",
        "print(a is b)\n",
        "\n",
        "# Check if a and c are the same object.\n",
        "print(a is c)\n",
        "\n",
        "# Check if a and b have the same value.\n",
        "print(a == b)\n",
        "\n",
        "# Check if a and c have the same value.\n",
        "print(a == c)"
      ],
      "metadata": {
        "colab": {
          "base_uri": "https://localhost:8080/"
        },
        "id": "HB_wbV0T-sRt",
        "outputId": "f8fa4fb2-e3c1-4369-e9ab-4bb0a4533ff8"
      },
      "execution_count": 20,
      "outputs": [
        {
          "output_type": "stream",
          "name": "stdout",
          "text": [
            "True\n",
            "True\n",
            "True\n",
            "True\n"
          ]
        }
      ]
    },
    {
      "cell_type": "code",
      "source": [
        "#6.Perform bitwise operations on any two integers.\n",
        "\n",
        "a = 20\n",
        "b = 4\n",
        "\n",
        "# Bitwise AND\n",
        "print(a & b)\n",
        "\n",
        "# Bitwise OR\n",
        "print(a | b)\n",
        "\n",
        "# Bitwise XOR\n",
        "print(a ^ b)\n",
        "\n",
        "# Bitwise NOT\n",
        "print(~a)\n",
        "\n",
        "# Bitwise left shift\n",
        "print(a << 2)\n",
        "\n",
        "# Bitwise right shift\n",
        "print(a >> 2)\n"
      ],
      "metadata": {
        "colab": {
          "base_uri": "https://localhost:8080/"
        },
        "id": "1T3GKcvA-xzF",
        "outputId": "d5dea3a3-9cda-4695-f4a2-05d4856697e9"
      },
      "execution_count": 26,
      "outputs": [
        {
          "output_type": "stream",
          "name": "stdout",
          "text": [
            "4\n",
            "20\n",
            "16\n",
            "-21\n",
            "80\n",
            "5\n"
          ]
        }
      ]
    },
    {
      "cell_type": "code",
      "source": [
        "#7.Use unary operators to change the sign of a number.\n",
        "a = 10\n",
        "a = -a\n",
        "# Print the value of the variable.\n",
        "print(a)"
      ],
      "metadata": {
        "colab": {
          "base_uri": "https://localhost:8080/"
        },
        "id": "a7wnKEQiAicu",
        "outputId": "c0e521c5-ef57-439d-91b0-01dadc961a37"
      },
      "execution_count": 27,
      "outputs": [
        {
          "output_type": "stream",
          "name": "stdout",
          "text": [
            "-10\n"
          ]
        }
      ]
    },
    {
      "cell_type": "code",
      "source": [
        "#8.Use the ternary operator to assign values based on conditions.\n",
        "a = 10\n",
        "b = 5\n",
        "c = a if a > b else b\n",
        "print(c)"
      ],
      "metadata": {
        "colab": {
          "base_uri": "https://localhost:8080/"
        },
        "id": "UjslCIqYBXxq",
        "outputId": "f13b96f7-9fe5-4299-ba57-f3c7993e15da"
      },
      "execution_count": 17,
      "outputs": [
        {
          "output_type": "stream",
          "name": "stdout",
          "text": [
            "10\n"
          ]
        }
      ]
    }
  ]
}