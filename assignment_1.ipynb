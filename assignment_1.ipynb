{
  "nbformat": 4,
  "nbformat_minor": 0,
  "metadata": {
    "colab": {
      "provenance": []
    },
    "kernelspec": {
      "name": "python3",
      "display_name": "Python 3"
    },
    "language_info": {
      "name": "python"
    }
  },
  "cells": [
    {
      "cell_type": "code",
      "execution_count": 1,
      "metadata": {
        "colab": {
          "base_uri": "https://localhost:8080/"
        },
        "id": "g3oe81jTvEJE",
        "outputId": "1effe0eb-2264-4914-d9f0-51418fd19ea7"
      },
      "outputs": [
        {
          "output_type": "stream",
          "name": "stdout",
          "text": [
            "5.0\n"
          ]
        }
      ],
      "source": [
        "#1.convert an integer to a floating point number\n",
        "a=5\n",
        "b=float(a)\n",
        "print(b)"
      ]
    },
    {
      "cell_type": "code",
      "source": [
        "#2.convert a float to an integer.\n",
        "a=5.3\n",
        "b=int(a)\n",
        "print(b)\n"
      ],
      "metadata": {
        "colab": {
          "base_uri": "https://localhost:8080/"
        },
        "id": "Th59JHIQvKhn",
        "outputId": "85aa6a0c-51c6-44db-a187-63bff499c2ac"
      },
      "execution_count": 5,
      "outputs": [
        {
          "output_type": "stream",
          "name": "stdout",
          "text": [
            "5\n"
          ]
        }
      ]
    },
    {
      "cell_type": "code",
      "source": [
        "#3.convert an integer to a string.\n",
        "a=4\n",
        "b=str(a)\n",
        "type(b)"
      ],
      "metadata": {
        "colab": {
          "base_uri": "https://localhost:8080/"
        },
        "id": "K8jm0v14vuBk",
        "outputId": "a90f4f11-d257-4548-f219-487669cf3efc"
      },
      "execution_count": 7,
      "outputs": [
        {
          "output_type": "execute_result",
          "data": {
            "text/plain": [
              "str"
            ]
          },
          "metadata": {},
          "execution_count": 7
        }
      ]
    },
    {
      "cell_type": "code",
      "source": [
        "#4.convert a list to a tuple.\n",
        "a=[1, 2, 'pw skill', 'data science', 4, 5]\n",
        "b=tuple(a)\n",
        "print(b)"
      ],
      "metadata": {
        "colab": {
          "base_uri": "https://localhost:8080/"
        },
        "id": "o0-WJRAuxNDr",
        "outputId": "a41bfccf-b194-4411-9e4a-6b026d746e52"
      },
      "execution_count": 11,
      "outputs": [
        {
          "output_type": "stream",
          "name": "stdout",
          "text": [
            "(1, 2, 'pw skill', 'data science', 4, 5)\n"
          ]
        }
      ]
    },
    {
      "cell_type": "code",
      "source": [
        "#5.convert a tuple to a list.\n",
        "a=(1,2,\"pw skill\",\"data science\",4,5)\n",
        "b=list(a)\n",
        "print(b)"
      ],
      "metadata": {
        "colab": {
          "base_uri": "https://localhost:8080/"
        },
        "id": "PpsgKh_QwWhb",
        "outputId": "ecee2abc-115c-4922-ea11-38609db7fdaf"
      },
      "execution_count": 9,
      "outputs": [
        {
          "output_type": "stream",
          "name": "stdout",
          "text": [
            "[1, 2, 'pw skill', 'data science', 4, 5]\n"
          ]
        }
      ]
    },
    {
      "cell_type": "code",
      "source": [
        "#6.convert a decimal number to a binary.\n",
        "a = 4\n",
        "b = bin(a)\n",
        "print(b)\n"
      ],
      "metadata": {
        "colab": {
          "base_uri": "https://localhost:8080/"
        },
        "id": "ENqLtKzKxGMw",
        "outputId": "77e79b14-744d-4e14-e46b-b96b084754c4"
      },
      "execution_count": 17,
      "outputs": [
        {
          "output_type": "stream",
          "name": "stdout",
          "text": [
            "0b100\n"
          ]
        }
      ]
    },
    {
      "cell_type": "code",
      "source": [
        "#7.convert a non-zero number to boolean.\n",
        "\n",
        "a = 4\n",
        "b = bool(a)\n",
        "print(b)"
      ],
      "metadata": {
        "id": "uWLiQKL20YvY"
      },
      "execution_count": null,
      "outputs": []
    }
  ]
}